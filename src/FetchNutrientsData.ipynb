{
 "cells": [
  {
   "cell_type": "markdown",
   "id": "6851a3e8",
   "metadata": {},
   "source": [
    "## Import libraries"
   ]
  },
  {
   "cell_type": "code",
   "execution_count": 1,
   "id": "d4b0d794",
   "metadata": {
    "ExecuteTime": {
     "end_time": "2023-12-12T21:23:33.062528Z",
     "start_time": "2023-12-12T21:23:32.771440Z"
    },
    "cell_style": "center",
    "init_cell": true
   },
   "outputs": [],
   "source": [
    "import re\n",
    "import os\n",
    "\n",
    "from dotenv import load_dotenv\n",
    "import numpy as np\n",
    "import pandas as pd\n",
    "import requests"
   ]
  },
  {
   "cell_type": "code",
   "execution_count": 2,
   "id": "6243394c",
   "metadata": {
    "ExecuteTime": {
     "end_time": "2023-12-12T21:23:33.067192Z",
     "start_time": "2023-12-12T21:23:33.064133Z"
    },
    "init_cell": true
   },
   "outputs": [],
   "source": [
    "load_dotenv()\n",
    "api_key = os.getenv('FOOD_DATA_CENTRAL_API_KEY')"
   ]
  },
  {
   "cell_type": "markdown",
   "id": "88ffd3fb",
   "metadata": {},
   "source": [
    "## Functions"
   ]
  },
  {
   "cell_type": "code",
   "execution_count": 3,
   "id": "2571d43c",
   "metadata": {
    "ExecuteTime": {
     "end_time": "2023-12-12T21:23:33.073388Z",
     "start_time": "2023-12-12T21:23:33.068498Z"
    },
    "init_cell": true
   },
   "outputs": [],
   "source": [
    "def fetch_fdc_data(query: str, api_key: str, data_type: str='Foundation',page_size: int=50,page_number: int=1) -> requests.models.Response:\n",
    "    '''\n",
    "    Fetch single page of data from FoodData Central acquired after applying a query.\n",
    "    \n",
    "    Args:\n",
    "        query: query passed to FDC API\n",
    "        api_key: unique API key required for API request\n",
    "        data_type: one of four basic data types provided by FDC. Allowed values: Foundation, Branded, Survey (FNDDS), SR Legacy\n",
    "        page_size: number of results per page\n",
    "        page_number: number of page to fetch\n",
    "    \n",
    "    Return: \n",
    "        requests.models.Response: fetched data in json format\n",
    "    '''\n",
    "    \n",
    "    base_url = 'https://api.nal.usda.gov/fdc/v1'\n",
    "    search_endpoint = '/foods/search'\n",
    "    \n",
    "    url_search = f'{base_url}{search_endpoint}?api_key={api_key}&query={query}&dataType={data_type}&pageSize={page_size}&pageNumber={page_number}'\n",
    "    response = requests.get(url_search)\n",
    "    return response.json()"
   ]
  },
  {
   "cell_type": "code",
   "execution_count": 4,
   "id": "27dfadd5",
   "metadata": {
    "ExecuteTime": {
     "end_time": "2023-12-12T21:23:33.080552Z",
     "start_time": "2023-12-12T21:23:33.074996Z"
    },
    "init_cell": true
   },
   "outputs": [],
   "source": [
    "def fetch_all(query: str,api_key: str,nutrients_list: list,data_type: str='Foundation',page_size: int=50,start_page: int=1,page_limit: int=None) -> pd.DataFrame:\n",
    "    '''\n",
    "    Fetch all available data from FDC database for given query.\n",
    "    \n",
    "    Args:\n",
    "        query: query passed to FDC API\n",
    "        api_key: unique API key required for API request\n",
    "        data_type: one of four basic data types provided by FDC. Allowed values: Foundation, Branded, Survey (FNDDS), SR Legacy\n",
    "        page_size: number of results per page\n",
    "        start_page: first page to fetch\n",
    "        page_limit: last page to fetch\n",
    "    \n",
    "    Return: \n",
    "        pd.DataFrame: fetched data\n",
    "    '''\n",
    "    \n",
    "    # Fetch start_page and retrieve basic info about the query\n",
    "    foods = fetch_fdc_data(query=query,api_key=api_key,data_type=data_type,page_number=start_page,page_size=page_size)\n",
    "    df = get_food_info(foods,nutrients_list)\n",
    "    total_pages = foods['totalPages']\n",
    "    hit_threshold = 500\n",
    "    \n",
    "    # Fetch all pages if page_limit is not specified\n",
    "    if page_limit is None:\n",
    "        page_limit = total_pages\n",
    "        \n",
    "    total_hits = (page_limit - start_page) * page_size\n",
    "    \n",
    "    # Warning if user tries to fetch very large number of entries\n",
    "    if  total_hits > hit_threshold:\n",
    "        decision = input(f'WARNING: This query will potentially result in page size ({page_size}) * number of pages ({page_limit - start_page}) = {total_hits} total hits. Do you want to continue? (Y/N): ')\n",
    "        \n",
    "        if decision not in ['Y','y']:\n",
    "            return None        \n",
    "    \n",
    "    for i in range(start_page+1,page_limit+1):\n",
    "        foods = fetch_fdc_data(query=query,api_key=api_key,data_type=data_type,page_number=i)\n",
    "        df_new = get_food_info(foods,nutrients_list)\n",
    "        df = pd.concat([df,df_new],ignore_index=True)\n",
    "    \n",
    "    return df"
   ]
  },
  {
   "cell_type": "code",
   "execution_count": 5,
   "id": "55047b2b",
   "metadata": {
    "ExecuteTime": {
     "end_time": "2023-12-12T21:23:33.086594Z",
     "start_time": "2023-12-12T21:23:33.081997Z"
    },
    "init_cell": true
   },
   "outputs": [],
   "source": [
    "def get_nutrients(food_entry: dict) -> dict:\n",
    "    '''\n",
    "    Get nutrient-value pairs for specific food.\n",
    "    Important: for some foods there are two values of energy (corresponding to Atwater General and Specific\n",
    "    Factors). Only those for General Factors are included in the final dictionary. Also, in some cases the energy is expressed\n",
    "    both in kcal and kJ. Only values expressed in kcal are included.\n",
    "    \n",
    "    Args:\n",
    "        food_entry: dictionary corresponding to a single food sample obtained from FDC database\n",
    "    \n",
    "    Return:\n",
    "        dict: nutrient-value pairs\n",
    "    '''\n",
    "    \n",
    "    nutrients = dict()\n",
    "    energy_pattern = re.compile(r'\\bEnergy\\b')\n",
    "    \n",
    "    # Populate dictionary of nutirents for given food\n",
    "    for nutrient in food_entry['foodNutrients']:        \n",
    "        if not energy_pattern.match(nutrient['nutrientName']):\n",
    "            nutrients[nutrient['nutrientName']] = nutrient.get('value',np.nan)\n",
    "            \n",
    "        if nutrient.get('nutrientName', '').strip() == 'Energy (Atwater General Factors)' and nutrient.get('unitName', '') == 'KCAL':\n",
    "            nutrients['Energy'] = np.round(nutrient.get('value',np.nan))\n",
    "        elif nutrient.get('nutrientName', '').split()[0] == 'Energy' and \\\n",
    "            len(nutrient.get('nutrientName', '').strip().split()) == 1 and \\\n",
    "            nutrient.get('unitName', '') == 'KCAL': \n",
    "            nutrients['Energy'] = np.round(nutrient.get('value',np.nan))\n",
    "    \n",
    "    if 'Energy' not in nutrients:\n",
    "        nutrients['Energy'] = np.nan\n",
    "    \n",
    "    return nutrients"
   ]
  },
  {
   "cell_type": "code",
   "execution_count": 17,
   "id": "64189ff0",
   "metadata": {
    "ExecuteTime": {
     "end_time": "2023-12-07T21:35:01.803184Z",
     "start_time": "2023-12-07T21:35:01.795306Z"
    }
   },
   "outputs": [],
   "source": [
    "def _create_description_columns(foods):\n",
    "        description_columns = ['Description']\n",
    "        if 'Survey (FNDDS)' in foods['foodSearchCriteria']['dataType']:\n",
    "            description_columns += ['Additional description']\n",
    "        if 'Branded' in foods['foodSearchCriteria']['dataType']:\n",
    "            description_columns += ['Food category','Brand owner','Brand name']\n",
    "        return description_columns\n",
    "    \n",
    "def _fill_description_columns(foods,food,filtered_nutrient_list):\n",
    "    filtered_nutrient_list['Description'] = food['description']\n",
    "    if 'Survey (FNDDS)' in foods['foodSearchCriteria']['dataType']:\n",
    "        filtered_nutrient_list['Additional description'] = food.get('additionalDescriptions',np.nan)\n",
    "    if 'Branded' in foods['foodSearchCriteria']['dataType']:\n",
    "        filtered_nutrient_list['Food category'] = food.get('foodCategory',np.nan)\n",
    "        filtered_nutrient_list['Brand owner'] = food.get('brandOwner',np.nan)\n",
    "        filtered_nutrient_list['Brand name'] = food.get('brandName',np.nan)\n",
    "    return filtered_nutrient_list"
   ]
  },
  {
   "cell_type": "code",
   "execution_count": 6,
   "id": "700cb064",
   "metadata": {
    "ExecuteTime": {
     "end_time": "2023-12-12T21:23:33.091397Z",
     "start_time": "2023-12-12T21:23:33.087891Z"
    },
    "init_cell": true
   },
   "outputs": [],
   "source": [
    "def get_food_info(foods: dict, nutrients_list: list) -> pd.DataFrame:\n",
    "    '''\n",
    "    Convert FDC json data to pandas DataFrame containing foods with selected nutrients\n",
    "    \n",
    "    Args:\n",
    "        foods: json data fetched from FDC \n",
    "        nutrients_list: list of nutrients to include in the final DataFrame. Nutrient names have to be the same as those provided by FDC.\n",
    "    \n",
    "    Return:\n",
    "        pd.DataFrame: food descriptions and selected nutrients\n",
    "    '''\n",
    "    \n",
    "    # Specify, which columns describing food samples should be included, based on the data type in the query result\n",
    "    description_columns = _create_description_columns(foods)\n",
    "        \n",
    "    data = []\n",
    "    for food in foods['foods']:\n",
    "        # Get nutrients for each food and store them for DataFrame creation\n",
    "        nutrients = get_nutrients(food)\n",
    "        filtered_nutrients = {nutrient: value for nutrient, value in nutrients.items() if nutrient in nutrients_list}\n",
    "        filtered_nutrients = _fill_description_columns(foods,food,filtered_nutrients)\n",
    "        data.append(filtered_nutrients)\n",
    "\n",
    "    df = pd.DataFrame(data,columns=description_columns + nutrients_list)\n",
    "    \n",
    "    return df"
   ]
  },
  {
   "cell_type": "code",
   "execution_count": 7,
   "id": "14a09940",
   "metadata": {
    "ExecuteTime": {
     "end_time": "2023-12-12T21:23:33.095754Z",
     "start_time": "2023-12-12T21:23:33.092623Z"
    },
    "init_cell": true
   },
   "outputs": [],
   "source": [
    "def list_nutrients_and_units(food_entry):\n",
    "    print(food_entry['description'])\n",
    "    for nutrient in food_entry['foodNutrients']:\n",
    "        print(f\"{nutrient.get('nutrientName','')} : {nutrient.get('value',np.nan)} : {nutrient.get('unitName',np.nan)}\")"
   ]
  },
  {
   "cell_type": "code",
   "execution_count": 8,
   "id": "cc90c1ec",
   "metadata": {
    "ExecuteTime": {
     "end_time": "2023-12-12T21:23:33.100122Z",
     "start_time": "2023-12-12T21:23:33.097412Z"
    },
    "init_cell": true
   },
   "outputs": [],
   "source": [
    "def remove_unnecessary_nutrients(nutrients_list,nutrients_to_remove):\n",
    "    nutrients_list_copy = nutrients_list.copy()\n",
    "    for element in nutrients_to_remove:\n",
    "        if element in nutrients_list_copy:\n",
    "            nutrients_list_copy.remove(element)\n",
    "        else:\n",
    "            print(f\"{element} not found in the list\")\n",
    "        \n",
    "    return nutrients_list_copy"
   ]
  },
  {
   "cell_type": "markdown",
   "id": "e14a7b96",
   "metadata": {},
   "source": [
    "## Fetching data"
   ]
  },
  {
   "cell_type": "markdown",
   "id": "55fa70d6",
   "metadata": {},
   "source": [
    "### Nutrient categories"
   ]
  },
  {
   "cell_type": "code",
   "execution_count": 9,
   "id": "175ad5cd",
   "metadata": {
    "ExecuteTime": {
     "end_time": "2023-12-12T21:23:33.104748Z",
     "start_time": "2023-12-12T21:23:33.101435Z"
    },
    "init_cell": true
   },
   "outputs": [],
   "source": [
    "basic_nutrients = ['Energy','Protein','Total lipid (fat)','Carbohydrate, by difference']\n",
    "proximates = ['Energy','Water','Protein','Total lipid (fat)','Carbohydrate, by difference','Ash']\n",
    "vitamins = ['Vitamin K (Dihydrophylloquinone)','Vitamin K (phylloquinone)','Folate, total',\n",
    "           'Vitamin C, total ascorbic acid','Niacin','Vitamin B-6','Riboflavin','Thiamin','Pantothenic acid',\n",
    "           'Vitamin A, RAE','Lutein + zeaxanthin','Vitamin D (D2 + D3)']\n",
    "minerals = ['Calcium, Ca','Potassium, K','Zinc, Zn','Selenium, Se','Manganese, Mn','Phosphorus, P',\n",
    "           'Magnesium, Mg','Copper, Cu','Iron, Fe','Sodium, Na']\n",
    "aminoacids = ['Tryptophan','Threonine','Methionine','Tyrosine','Alanine','Glutamic acid','Glycine','Proline']\n",
    "essential_aminoacids = ['Histidine','Isoleucine','Leucine','Lysine','Methionine','Phenylalanine','Threonine','Tyrosine','Valine']\n",
    "organic_acids = ['Citric acid','Malic acid','Oxalic acid','Quinic acid']"
   ]
  },
  {
   "cell_type": "markdown",
   "id": "822f9653",
   "metadata": {},
   "source": [
    "### Fruits"
   ]
  },
  {
   "cell_type": "markdown",
   "id": "e59bdbb3",
   "metadata": {},
   "source": [
    "Whole fruits and fruit juice"
   ]
  },
  {
   "cell_type": "code",
   "execution_count": 26,
   "id": "70dc1f88",
   "metadata": {
    "ExecuteTime": {
     "end_time": "2023-12-07T21:36:00.970465Z",
     "start_time": "2023-12-07T21:35:59.104505Z"
    }
   },
   "outputs": [],
   "source": [
    "fruits_nutrients = proximates + ['Sugars, Total'] + vitamins + minerals + organic_acids\n",
    "fruits_nutrients = remove_unnecessary_nutrients(fruits_nutrients,['Vitamin K (Dihydrophylloquinone)','Vitamin K (phylloquinone)'])\n",
    "fruits = fetch_all(query='fruit',\n",
    "                   api_key=api_key,\n",
    "                   nutrients_list=fruits_nutrients,\n",
    "                    data_type='Foundation',start_page=1)\n",
    "\n",
    "fruits.to_csv('fruits.csv',index=False)"
   ]
  },
  {
   "cell_type": "markdown",
   "id": "fc919e7b",
   "metadata": {},
   "source": [
    "### Vegetables"
   ]
  },
  {
   "cell_type": "markdown",
   "id": "ea256474",
   "metadata": {},
   "source": [
    "Dark green vegs, red and orange vegs, starchy, other"
   ]
  },
  {
   "cell_type": "code",
   "execution_count": 27,
   "id": "404687ac",
   "metadata": {
    "ExecuteTime": {
     "end_time": "2023-12-07T21:37:48.068250Z",
     "start_time": "2023-12-07T21:37:44.290978Z"
    }
   },
   "outputs": [],
   "source": [
    "vegetables_nutrients = proximates + vitamins + minerals\n",
    "vegetables = fetch_all(query='vegetable',\n",
    "                   api_key=api_key,\n",
    "                   nutrients_list=vegetables_nutrients,\n",
    "                    data_type='Foundation',start_page=1)\n",
    "\n",
    "vegetables.to_csv('vegetables.csv',index=False)"
   ]
  },
  {
   "cell_type": "markdown",
   "id": "e3f7822b",
   "metadata": {},
   "source": [
    "### Grains"
   ]
  },
  {
   "cell_type": "markdown",
   "id": "cec506d2",
   "metadata": {},
   "source": [
    "Whole wheat bread, brown rice, popcorn, oatmeal (whole grains); refined grains"
   ]
  },
  {
   "cell_type": "code",
   "execution_count": 28,
   "id": "82754ea2",
   "metadata": {
    "ExecuteTime": {
     "end_time": "2023-12-07T21:37:54.524360Z",
     "start_time": "2023-12-07T21:37:52.766992Z"
    }
   },
   "outputs": [],
   "source": [
    "grains_nutrients = proximates + minerals + ['Molybdenum, Mo'] + ['Fiber, total dietary'] + ['Thiamin','Riboflavin','Niacin','Vitamin B-6','Biotin']\n",
    "grains = fetch_all(query='grain',\n",
    "                   api_key=api_key,\n",
    "                   nutrients_list=grains_nutrients,\n",
    "                    data_type='Foundation',start_page=1)\n",
    "grains.to_csv('grains.csv',index=False)"
   ]
  },
  {
   "cell_type": "markdown",
   "id": "7591fd0b",
   "metadata": {},
   "source": [
    "### Protein Foods"
   ]
  },
  {
   "cell_type": "markdown",
   "id": "89f7705f",
   "metadata": {},
   "source": [
    "Beans and peas, seafood, meat, poultry and eggs, nuts, seeds and soy"
   ]
  },
  {
   "cell_type": "code",
   "execution_count": 67,
   "id": "cc49ae75",
   "metadata": {
    "ExecuteTime": {
     "end_time": "2023-12-08T13:13:15.512832Z",
     "start_time": "2023-12-08T13:13:01.104587Z"
    }
   },
   "outputs": [],
   "source": [
    "fish_nutrients = proximates + minerals + vitamins + essential_aminoacids + ['PUFA 18:3 n-3 c,c,c (ALA)','PUFA 20:5 n-3 (EPA)','PUFA 22:6 n-3 (DHA)'] + \\\n",
    "['Fatty acids, total saturated','Fatty acids, total monounsaturated','Fatty acids, total polyunsaturated','Fatty acids, total trans','Cholesterol']\n",
    "fish_nutrients = remove_unnecessary_nutrients(fish_nutrients,['Vitamin K (Dihydrophylloquinone)','Vitamin K (phylloquinone)','Lutein + zeaxanthin'])\n",
    "fish = fetch_all(query='fish',\n",
    "                   api_key=api_key,\n",
    "                   nutrients_list=fish_nutrients,\n",
    "                    data_type='SR Legacy',start_page=1)\n",
    "\n",
    "fish = fish[fish['Description'].str.contains('raw')]\n",
    "\n",
    "fish.to_csv('../Foods/fish.csv',index=False)"
   ]
  },
  {
   "cell_type": "code",
   "execution_count": 66,
   "id": "38e0f3ab",
   "metadata": {
    "ExecuteTime": {
     "end_time": "2023-12-08T13:12:35.317601Z",
     "start_time": "2023-12-08T13:12:33.532163Z"
    }
   },
   "outputs": [],
   "source": [
    "beans_nutrients = proximates + minerals + ['Sulfur, S','Nickel, Ni','Molybdenum, Mo','Cobalt, Co','Boron, B'] \n",
    "beans = fetch_all(query='bean',\n",
    "                   api_key=api_key,\n",
    "                   nutrients_list=beans_nutrients,\n",
    "                    data_type='Foundation',start_page=1)\n",
    "\n",
    "# Duplicate from vegetables\n",
    "beans.drop([0,1],inplace=True)\n",
    "beans.to_csv('beans.csv',index=False)"
   ]
  },
  {
   "cell_type": "code",
   "execution_count": 31,
   "id": "804824b9",
   "metadata": {
    "ExecuteTime": {
     "end_time": "2023-12-07T21:38:15.755099Z",
     "start_time": "2023-12-07T21:38:14.176363Z"
    }
   },
   "outputs": [],
   "source": [
    "nuts_nutrients = proximates + minerals\n",
    "nuts = fetch_all(query='nut',\n",
    "                   api_key=api_key,\n",
    "                   nutrients_list=nuts_nutrients,\n",
    "                    data_type='Foundation',start_page=1)\n",
    "nuts.to_csv('nuts.csv',index=False)"
   ]
  },
  {
   "cell_type": "code",
   "execution_count": 32,
   "id": "67ca9d96",
   "metadata": {
    "ExecuteTime": {
     "end_time": "2023-12-07T21:38:21.655766Z",
     "start_time": "2023-12-07T21:38:19.736191Z"
    }
   },
   "outputs": [],
   "source": [
    "poultry_nutrients = proximates + minerals + ['Fatty acids, total saturated','Fatty acids, total monounsaturated','Fatty acids, total polyunsaturated','Fatty acids, total trans','Cholesterol']\n",
    "poultry = fetch_all(query='poultry',\n",
    "                   api_key=api_key,\n",
    "                   nutrients_list=poultry_nutrients,\n",
    "                    data_type='Foundation',start_page=1)\n",
    "poultry.to_csv('poultry.csv',index=False)"
   ]
  },
  {
   "cell_type": "code",
   "execution_count": 33,
   "id": "aec3b179",
   "metadata": {
    "ExecuteTime": {
     "end_time": "2023-12-07T21:38:28.936150Z",
     "start_time": "2023-12-07T21:38:26.767723Z"
    }
   },
   "outputs": [],
   "source": [
    "meat_nutrients = proximates + minerals + ['Fatty acids, total saturated','Fatty acids, total monounsaturated','Fatty acids, total polyunsaturated','Fatty acids, total trans','Cholesterol']\n",
    "meat = fetch_all(query='meat -restaurant',\n",
    "                   api_key=api_key,\n",
    "                   nutrients_list=meat_nutrients,\n",
    "                    data_type='Foundation',start_page=1)\n",
    "meat.to_csv('meat.csv',index=False)"
   ]
  },
  {
   "cell_type": "code",
   "execution_count": 34,
   "id": "d9637092",
   "metadata": {
    "ExecuteTime": {
     "end_time": "2023-12-07T21:38:41.371200Z",
     "start_time": "2023-12-07T21:38:41.353943Z"
    }
   },
   "outputs": [],
   "source": [
    "meat_and_poultry = pd.concat([poultry,meat],axis=0)\n",
    "meat_and_poultry.drop_duplicates(inplace=True)\n",
    "meat_and_poultry.to_csv('meat_and_poultry.csv',index=False)"
   ]
  },
  {
   "cell_type": "markdown",
   "id": "e5f1160b",
   "metadata": {},
   "source": [
    "### Diary"
   ]
  },
  {
   "cell_type": "markdown",
   "id": "632d0733",
   "metadata": {},
   "source": [
    "Milk and yogurt, cheese"
   ]
  },
  {
   "cell_type": "code",
   "execution_count": 35,
   "id": "0bc4dbf3",
   "metadata": {
    "ExecuteTime": {
     "end_time": "2023-12-07T21:38:48.396479Z",
     "start_time": "2023-12-07T21:38:46.629638Z"
    }
   },
   "outputs": [],
   "source": [
    "cheese_nutrients = proximates + vitamins + minerals + ['Fatty acids, total saturated','Fatty acids, total monounsaturated','Fatty acids, total polyunsaturated','Fatty acids, total trans']\n",
    "cheese = fetch_all(query='cheese',\n",
    "                   api_key=api_key,\n",
    "                   nutrients_list=cheese_nutrients,\n",
    "                    data_type='Foundation',start_page=1)\n",
    "cheese.to_csv('cheese.csv',index=False)"
   ]
  },
  {
   "cell_type": "code",
   "execution_count": 36,
   "id": "2e451a1b",
   "metadata": {
    "ExecuteTime": {
     "end_time": "2023-12-07T21:38:53.413623Z",
     "start_time": "2023-12-07T21:38:51.422793Z"
    }
   },
   "outputs": [],
   "source": [
    "egg_milk_yogurt_nutrients = proximates + vitamins + minerals + ['Fatty acids, total saturated','Fatty acids, total monounsaturated','Fatty acids, total polyunsaturated','Fatty acids, total trans'] + aminoacids\n",
    "egg_milk_yogurt = fetch_all(query='egg -cheese',\n",
    "                   api_key=api_key,\n",
    "                   nutrients_list=egg_milk_yogurt_nutrients,\n",
    "                    data_type='Foundation',start_page=1)\n",
    "egg_milk_yogurt.to_csv('egg_milk_yogurt.csv',index=False)"
   ]
  }
 ],
 "metadata": {
  "celltoolbar": "Initialization Cell",
  "kernelspec": {
   "display_name": "Python 3 (ipykernel)",
   "language": "python",
   "name": "python3"
  },
  "language_info": {
   "codemirror_mode": {
    "name": "ipython",
    "version": 3
   },
   "file_extension": ".py",
   "mimetype": "text/x-python",
   "name": "python",
   "nbconvert_exporter": "python",
   "pygments_lexer": "ipython3",
   "version": "3.10.12"
  },
  "toc": {
   "base_numbering": 1,
   "nav_menu": {},
   "number_sections": true,
   "sideBar": true,
   "skip_h1_title": false,
   "title_cell": "Table of Contents",
   "title_sidebar": "Contents",
   "toc_cell": false,
   "toc_position": {
    "height": "calc(100% - 180px)",
    "left": "10px",
    "top": "150px",
    "width": "384px"
   },
   "toc_section_display": true,
   "toc_window_display": false
  }
 },
 "nbformat": 4,
 "nbformat_minor": 5
}
