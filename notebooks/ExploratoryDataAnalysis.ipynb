{
 "cells": [
  {
   "cell_type": "markdown",
   "metadata": {},
   "source": [
    "# Exploratory Data Analysis for the Food Nutrients Data"
   ]
  },
  {
   "cell_type": "markdown",
   "metadata": {},
   "source": [
    "## Description"
   ]
  },
  {
   "cell_type": "markdown",
   "metadata": {},
   "source": [
    "Clean fetched FDC datasets contatining nutritional information about various products and explore them."
   ]
  },
  {
   "cell_type": "markdown",
   "metadata": {},
   "source": [
    "## Table of Contents"
   ]
  },
  {
   "cell_type": "code",
   "execution_count": null,
   "metadata": {},
   "outputs": [],
   "source": []
  },
  {
   "cell_type": "markdown",
   "metadata": {},
   "source": [
    "## Results summary"
   ]
  },
  {
   "cell_type": "code",
   "execution_count": null,
   "metadata": {},
   "outputs": [],
   "source": []
  },
  {
   "cell_type": "markdown",
   "metadata": {},
   "source": [
    "## Imports"
   ]
  },
  {
   "cell_type": "code",
   "execution_count": 1,
   "metadata": {},
   "outputs": [],
   "source": [
    "import os\n",
    "\n",
    "import matplotlib as mpl\n",
    "import matplotlib.pyplot as plt\n",
    "import numpy as np\n",
    "import pandas as pd\n",
    "import seaborn as sns"
   ]
  },
  {
   "cell_type": "markdown",
   "metadata": {},
   "source": [
    "## Data source"
   ]
  },
  {
   "cell_type": "markdown",
   "metadata": {},
   "source": [
    "The data was obtained from [Food Data Central](https://fdc.nal.usda.gov/) (Department of Agriculture, USA). The database contains nutritional information about various products together with the number of analyzed samples, basic statistics, analytical methods and others. Full details are available for \"Foundation Foods\" and not necessarily for other sections (\"SR Legacy\", for example). More complete decription of the database and its contents can be found in [Foundation Foods documentation](https://fdc.nal.usda.gov/docs/Foundation_Foods_Documentation_Apr2023.pdf)."
   ]
  },
  {
   "cell_type": "markdown",
   "metadata": {},
   "source": [
    "## Outline of data being explored"
   ]
  },
  {
   "cell_type": "markdown",
   "metadata": {},
   "source": [
    "There are 10 datasets stored in .csv files in /FoodDataAnalysis/data/raw/ directory.\n",
    "\n",
    "Each of them contains data for particular kind of food (fish, vegetable, fruit etc.). \\\n",
    "Products in each food category are characterized by 7 variables if available:\n",
    "- Energy (kcal)\n",
    "- Protein (g)\n",
    "- Fat (g)\n",
    "- Carbohydrate (g)\n",
    "- Potassium (mg)\n",
    "- Calcium (mg)\n",
    "- Magnesium (mg)\n",
    "\n",
    "NOTE: Energy in the datasets corresponds to Atwater General Factors."
   ]
  },
  {
   "cell_type": "markdown",
   "metadata": {},
   "source": [
    "## Analysis"
   ]
  },
  {
   "cell_type": "markdown",
   "metadata": {},
   "source": [
    "### Read data"
   ]
  },
  {
   "cell_type": "markdown",
   "metadata": {},
   "source": [
    "Note: The data was initially manually corrected in Excel by removing inappropriate entries (frozen food, food from restaurants, processed food etc.). Descriptions had to be changed through deletion of unnecessary details, which was accomplished in Excel too, due to easiness of manipulation in individuall cells."
   ]
  },
  {
   "cell_type": "code",
   "execution_count": 101,
   "metadata": {},
   "outputs": [],
   "source": [
    "def load_data(dirpath):\n",
    "    dfs = {}\n",
    "    for filename in os.listdir(dirpath):\n",
    "        if filename.endswith('.csv'):\n",
    "            df_name = filename.split('.')[0]\n",
    "            dfs[df_name] = pd.read_csv(os.path.join(dirpath,filename))\n",
    "    return dfs\n",
    "\n",
    "data = load_data('../data/raw/')"
   ]
  },
  {
   "cell_type": "code",
   "execution_count": 104,
   "metadata": {},
   "outputs": [],
   "source": [
    "vegetable = data['vegetable']\n",
    "vegetable = vegetable[~vegetable['Description'].str.contains('[Mm]ushroom')]\n",
    "mushrooms = vegetable[vegetable['Description'].str.contains('[Mm]ushroom')]\n",
    "\n",
    "fruit = data['fruit']\n",
    "nut = data['nut']\n",
    "cheese = data['cheese']\n",
    "grain = data['grain']\n",
    "fish = data['fish']\n",
    "egg_and_milk = data['egg']"
   ]
  },
  {
   "cell_type": "markdown",
   "metadata": {},
   "source": [
    "### Clean data"
   ]
  },
  {
   "cell_type": "markdown",
   "metadata": {},
   "source": [
    "Vegetables"
   ]
  },
  {
   "cell_type": "code",
   "execution_count": 111,
   "metadata": {},
   "outputs": [],
   "source": [
    "def clean_mushrooms_dataset(mushroom_df):\n",
    "    df_copy = mushroom_df.copy()\n",
    "    df_copy['Description'] = df_copy['Description'].apply(lambda x: reverse_names(x))\n",
    "    return df_copy"
   ]
  },
  {
   "cell_type": "code",
   "execution_count": 112,
   "metadata": {},
   "outputs": [],
   "source": [
    "def reverse_names(description):\n",
    "    list_of_words = description.split(',')\n",
    "    return ' '.join(list_of_words[1:]) + ' ' + list_of_words[0] "
   ]
  },
  {
   "cell_type": "code",
   "execution_count": 116,
   "metadata": {},
   "outputs": [],
   "source": [
    "def clean_vegetable_dataset(vegetable_df):\n",
    "    df_copy = vegetable_df.copy()\n",
    "    \n",
    "    # Choose only relevant products\n",
    "    # df_copy['Description'] = df_copy['Description'].apply(lambda x: str.lower(x))\n",
    "    df_copy = df_copy[(df_copy['Description'].str.contains('raw'))]\n",
    "    # df_copy['Description'] = df_copy['Description'].apply(lambda x: reverse_names(x))\n",
    "    df_copy['Description'] = df_copy['Description'].str.replace(r'\\b, raw\\b','',regex=True)\n",
    "    return df_copy\n",
    "    "
   ]
  },
  {
   "cell_type": "code",
   "execution_count": 117,
   "metadata": {},
   "outputs": [],
   "source": [
    "vegetables_cleaned = clean_vegetable_dataset(vegetable)\n",
    "mushrooms_cleaned = clean_mushrooms_dataset(mushrooms)"
   ]
  },
  {
   "cell_type": "code",
   "execution_count": 119,
   "metadata": {},
   "outputs": [
    {
     "data": {
      "text/html": [
       "<div>\n",
       "<style scoped>\n",
       "    .dataframe tbody tr th:only-of-type {\n",
       "        vertical-align: middle;\n",
       "    }\n",
       "\n",
       "    .dataframe tbody tr th {\n",
       "        vertical-align: top;\n",
       "    }\n",
       "\n",
       "    .dataframe thead th {\n",
       "        text-align: right;\n",
       "    }\n",
       "</style>\n",
       "<table border=\"1\" class=\"dataframe\">\n",
       "  <thead>\n",
       "    <tr style=\"text-align: right;\">\n",
       "      <th></th>\n",
       "      <th>Description</th>\n",
       "      <th>Energy</th>\n",
       "      <th>Protein</th>\n",
       "      <th>Total lipid (fat)</th>\n",
       "      <th>Carbohydrate, by difference</th>\n",
       "      <th>Potassium, K</th>\n",
       "      <th>Calcium, Ca</th>\n",
       "      <th>Magnesium, Mg</th>\n",
       "    </tr>\n",
       "  </thead>\n",
       "  <tbody>\n",
       "  </tbody>\n",
       "</table>\n",
       "</div>"
      ],
      "text/plain": [
       "Empty DataFrame\n",
       "Columns: [Description, Energy, Protein, Total lipid (fat), Carbohydrate, by difference, Potassium, K, Calcium, Ca, Magnesium, Mg]\n",
       "Index: []"
      ]
     },
     "execution_count": 119,
     "metadata": {},
     "output_type": "execute_result"
    }
   ],
   "source": [
    "mushrooms_cleaned"
   ]
  },
  {
   "cell_type": "markdown",
   "metadata": {},
   "source": [
    "Fruits"
   ]
  },
  {
   "cell_type": "code",
   "execution_count": 60,
   "metadata": {},
   "outputs": [],
   "source": [
    "def clean_fruits_dataset(fruit_df):\n",
    "    df_copy = fruit_df.copy()\n",
    "    \n",
    "    figs = df_copy.iloc[12]\n",
    "    figs = pd.DataFrame([figs.values], columns=figs.index)\n",
    "    df_copy = df_copy[(df_copy['Description'].str.contains('raw'))]\n",
    "    df_copy = pd.concat([df_copy,figs],ignore_index=True)\n",
    "    df_copy['Description'] = df_copy['Description'].apply(lambda x: str.lower(x))\n",
    "    df_copy['Description'] = df_copy['Description'].apply(lambda x: x.replace(',','')).str.replace('\\braw\\b','',regex=True)\n",
    "    return df_copy"
   ]
  },
  {
   "cell_type": "code",
   "execution_count": 62,
   "metadata": {},
   "outputs": [],
   "source": [
    "fruits_cleaned = clean_fruits_dataset(fruit)"
   ]
  },
  {
   "cell_type": "markdown",
   "metadata": {},
   "source": [
    "Cheese"
   ]
  },
  {
   "cell_type": "code",
   "execution_count": 97,
   "metadata": {},
   "outputs": [],
   "source": [
    "def clean_cheese_dataset(cheese_df):\n",
    "    df_copy = cheese_df.copy()\n",
    "    df_copy = df_copy[~df_copy['Description'].str.contains('restaurant')]\n",
    "    df_copy['Description'] = df_copy['Description'].str.lower()\n",
    "    df_copy['Description'] = df_copy['Description'].apply(lambda x: ' '.join(x.split(',')[1:]))\n",
    "    df_copy = df_copy.drop([7,17]) # Processed cheese products\n",
    "    return df_copy"
   ]
  },
  {
   "cell_type": "code",
   "execution_count": 98,
   "metadata": {},
   "outputs": [],
   "source": [
    "cheese_cleaned = clean_cheese_dataset(cheese)"
   ]
  },
  {
   "cell_type": "markdown",
   "metadata": {},
   "source": [
    "Grain"
   ]
  },
  {
   "cell_type": "code",
   "execution_count": 99,
   "metadata": {},
   "outputs": [],
   "source": [
    "def clean_grain_dataset(grain_df):\n",
    "    df_copy = grain_df.copy()\n",
    "    df_copy['Description'] = df_copy['Description'].apply(lambda x: str.lower(x)).apply(lambda x: reverse_names(x))\n",
    "    return df_copy"
   ]
  },
  {
   "cell_type": "code",
   "execution_count": 100,
   "metadata": {},
   "outputs": [
    {
     "data": {
      "text/html": [
       "<div>\n",
       "<style scoped>\n",
       "    .dataframe tbody tr th:only-of-type {\n",
       "        vertical-align: middle;\n",
       "    }\n",
       "\n",
       "    .dataframe tbody tr th {\n",
       "        vertical-align: top;\n",
       "    }\n",
       "\n",
       "    .dataframe thead th {\n",
       "        text-align: right;\n",
       "    }\n",
       "</style>\n",
       "<table border=\"1\" class=\"dataframe\">\n",
       "  <thead>\n",
       "    <tr style=\"text-align: right;\">\n",
       "      <th></th>\n",
       "      <th>Description</th>\n",
       "      <th>Energy</th>\n",
       "      <th>Protein</th>\n",
       "      <th>Total lipid (fat)</th>\n",
       "      <th>Carbohydrate, by difference</th>\n",
       "      <th>Potassium, K</th>\n",
       "      <th>Calcium, Ca</th>\n",
       "      <th>Magnesium, Mg</th>\n",
       "    </tr>\n",
       "  </thead>\n",
       "  <tbody>\n",
       "    <tr>\n",
       "      <th>0</th>\n",
       "      <td>whole grain buckwheat</td>\n",
       "      <td>356</td>\n",
       "      <td>11.1</td>\n",
       "      <td>3.04</td>\n",
       "      <td>71.1</td>\n",
       "      <td>414.0</td>\n",
       "      <td>13.6</td>\n",
       "      <td>203.0</td>\n",
       "    </tr>\n",
       "    <tr>\n",
       "      <th>1</th>\n",
       "      <td>whole grain millet</td>\n",
       "      <td>376</td>\n",
       "      <td>10.0</td>\n",
       "      <td>4.19</td>\n",
       "      <td>74.4</td>\n",
       "      <td>214.0</td>\n",
       "      <td>9.1</td>\n",
       "      <td>106.0</td>\n",
       "    </tr>\n",
       "    <tr>\n",
       "      <th>2</th>\n",
       "      <td>oat  whole grain flour</td>\n",
       "      <td>389</td>\n",
       "      <td>13.2</td>\n",
       "      <td>6.31</td>\n",
       "      <td>69.9</td>\n",
       "      <td>373.0</td>\n",
       "      <td>42.8</td>\n",
       "      <td>125.0</td>\n",
       "    </tr>\n",
       "    <tr>\n",
       "      <th>3</th>\n",
       "      <td>spelt  whole grain flour</td>\n",
       "      <td>364</td>\n",
       "      <td>14.5</td>\n",
       "      <td>2.54</td>\n",
       "      <td>70.7</td>\n",
       "      <td>350.0</td>\n",
       "      <td>30.0</td>\n",
       "      <td>124.0</td>\n",
       "    </tr>\n",
       "    <tr>\n",
       "      <th>4</th>\n",
       "      <td>whole grain  steel cut oats</td>\n",
       "      <td>381</td>\n",
       "      <td>12.5</td>\n",
       "      <td>5.80</td>\n",
       "      <td>69.8</td>\n",
       "      <td>376.0</td>\n",
       "      <td>51.3</td>\n",
       "      <td>129.0</td>\n",
       "    </tr>\n",
       "  </tbody>\n",
       "</table>\n",
       "</div>"
      ],
      "text/plain": [
       "                    Description  Energy  Protein  Total lipid (fat)  \\\n",
       "0         whole grain buckwheat     356     11.1               3.04   \n",
       "1            whole grain millet     376     10.0               4.19   \n",
       "2        oat  whole grain flour     389     13.2               6.31   \n",
       "3      spelt  whole grain flour     364     14.5               2.54   \n",
       "4   whole grain  steel cut oats     381     12.5               5.80   \n",
       "\n",
       "   Carbohydrate, by difference  Potassium, K  Calcium, Ca  Magnesium, Mg  \n",
       "0                         71.1         414.0         13.6          203.0  \n",
       "1                         74.4         214.0          9.1          106.0  \n",
       "2                         69.9         373.0         42.8          125.0  \n",
       "3                         70.7         350.0         30.0          124.0  \n",
       "4                         69.8         376.0         51.3          129.0  "
      ]
     },
     "execution_count": 100,
     "metadata": {},
     "output_type": "execute_result"
    }
   ],
   "source": [
    "grain_cleaned = clean_grain_dataset(grain)\n",
    "grain_cleaned.head()"
   ]
  },
  {
   "cell_type": "markdown",
   "metadata": {},
   "source": [
    "Bean"
   ]
  },
  {
   "cell_type": "markdown",
   "metadata": {},
   "source": [
    "Nut"
   ]
  },
  {
   "cell_type": "markdown",
   "metadata": {},
   "source": [
    "Fish"
   ]
  },
  {
   "cell_type": "markdown",
   "metadata": {},
   "source": [
    "Egg"
   ]
  },
  {
   "cell_type": "markdown",
   "metadata": {},
   "source": [
    "### EDA"
   ]
  },
  {
   "cell_type": "code",
   "execution_count": null,
   "metadata": {},
   "outputs": [],
   "source": []
  },
  {
   "cell_type": "markdown",
   "metadata": {},
   "source": [
    "## Conclusions"
   ]
  },
  {
   "cell_type": "code",
   "execution_count": null,
   "metadata": {},
   "outputs": [],
   "source": []
  }
 ],
 "metadata": {
  "kernelspec": {
   "display_name": "Python 3",
   "language": "python",
   "name": "python3"
  },
  "language_info": {
   "codemirror_mode": {
    "name": "ipython",
    "version": 3
   },
   "file_extension": ".py",
   "mimetype": "text/x-python",
   "name": "python",
   "nbconvert_exporter": "python",
   "pygments_lexer": "ipython3",
   "version": "3.10.12"
  }
 },
 "nbformat": 4,
 "nbformat_minor": 2
}
