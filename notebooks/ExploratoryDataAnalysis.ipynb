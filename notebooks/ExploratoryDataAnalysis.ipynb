{
 "cells": [
  {
   "cell_type": "markdown",
   "metadata": {},
   "source": [
    "# Exploratory Data Analysis for the Food Nutrients Data"
   ]
  },
  {
   "cell_type": "markdown",
   "metadata": {},
   "source": [
    "## Description"
   ]
  },
  {
   "cell_type": "markdown",
   "metadata": {},
   "source": [
    "Clean fetched FDC datasets contatining nutritional information about various products and explore them."
   ]
  },
  {
   "cell_type": "markdown",
   "metadata": {},
   "source": [
    "## Table of Contents"
   ]
  },
  {
   "cell_type": "code",
   "execution_count": null,
   "metadata": {},
   "outputs": [],
   "source": []
  },
  {
   "cell_type": "markdown",
   "metadata": {},
   "source": [
    "## Results summary"
   ]
  },
  {
   "cell_type": "code",
   "execution_count": null,
   "metadata": {},
   "outputs": [],
   "source": []
  },
  {
   "cell_type": "markdown",
   "metadata": {},
   "source": [
    "## Imports"
   ]
  },
  {
   "cell_type": "code",
   "execution_count": 263,
   "metadata": {},
   "outputs": [],
   "source": [
    "import os\n",
    "import sys\n",
    "\n",
    "import matplotlib as mpl\n",
    "import matplotlib.pyplot as plt\n",
    "import numpy as np\n",
    "import pandas as pd\n",
    "import seaborn as sns\n",
    "\n",
    "sys.path.append(os.path.abspath('..'))\n",
    "\n",
    "from src.data.utils import *"
   ]
  },
  {
   "cell_type": "markdown",
   "metadata": {},
   "source": [
    "## Data source"
   ]
  },
  {
   "cell_type": "markdown",
   "metadata": {},
   "source": [
    "The data was obtained from [Food Data Central](https://fdc.nal.usda.gov/) (Department of Agriculture, USA). The database contains nutritional information about various products and is divided into a few sections (Foundational Foods, most recent; SR Legacy, Survey and Branded Foods). The data was fetched using \"SR Legacy\" type, because it contains more products than \"Foundational Foods\". More complete decription of the database and its contents can be found in [Foundation Foods documentation](https://fdc.nal.usda.gov/docs/Foundation_Foods_Documentation_Apr2023.pdf)."
   ]
  },
  {
   "cell_type": "markdown",
   "metadata": {},
   "source": [
    "## Outline of data being explored"
   ]
  },
  {
   "cell_type": "markdown",
   "metadata": {},
   "source": [
    "There are 8 datasets stored in .csv files in /FoodDataAnalysis/data/raw/ directory.\n",
    "\n",
    "Each of them contains data for particular kind of food (fish, vegetable, fruit etc.). \\\n",
    "Products in each food category are characterized by 7 variables:\n",
    "- Energy (kcal)\n",
    "- Protein (g)\n",
    "- Fat (g)\n",
    "- Carbohydrate (g)\n",
    "- Potassium (mg)\n",
    "- Calcium (mg)\n",
    "- Magnesium (mg)\n",
    "\n",
    "Datasets ready for analysis are stored in /FoodDataAnalysis/data/processed/ directory."
   ]
  },
  {
   "cell_type": "markdown",
   "metadata": {},
   "source": [
    "## Analysis"
   ]
  },
  {
   "cell_type": "markdown",
   "metadata": {},
   "source": [
    "### Read & clean the data "
   ]
  },
  {
   "cell_type": "code",
   "execution_count": 459,
   "metadata": {},
   "outputs": [],
   "source": [
    "data = load_data('../data/raw/')\n",
    "data = choose_foods(data) # Datasets obtained via API contain much unnecessary information (like highly proccesed foods), that need to be filtered\n",
    "data = add_food_type(data)\n",
    "food_df = merge_data(data)\n",
    "food_df['Description'] = food_df['Description'].str.replace(r\"\\(Includes foods for USDA's Food Distribution Program\\)\",'',regex=True)\n",
    "save_final_datasets(data,'../data/processed/')"
   ]
  },
  {
   "cell_type": "markdown",
   "metadata": {},
   "source": [
    "### EDA"
   ]
  },
  {
   "cell_type": "code",
   "execution_count": 456,
   "metadata": {},
   "outputs": [
    {
     "data": {
      "text/html": [
       "<div>\n",
       "<style scoped>\n",
       "    .dataframe tbody tr th:only-of-type {\n",
       "        vertical-align: middle;\n",
       "    }\n",
       "\n",
       "    .dataframe tbody tr th {\n",
       "        vertical-align: top;\n",
       "    }\n",
       "\n",
       "    .dataframe thead th {\n",
       "        text-align: right;\n",
       "    }\n",
       "</style>\n",
       "<table border=\"1\" class=\"dataframe\">\n",
       "  <thead>\n",
       "    <tr style=\"text-align: right;\">\n",
       "      <th></th>\n",
       "      <th>Description</th>\n",
       "      <th>Energy</th>\n",
       "      <th>Protein</th>\n",
       "      <th>Total lipid (fat)</th>\n",
       "      <th>Carbohydrate, by difference</th>\n",
       "      <th>Potassium, K</th>\n",
       "      <th>Calcium, Ca</th>\n",
       "      <th>Magnesium, Mg</th>\n",
       "      <th>Category</th>\n",
       "    </tr>\n",
       "  </thead>\n",
       "  <tbody>\n",
       "    <tr>\n",
       "      <th>0</th>\n",
       "      <td>Salsify, (vegetable oyster), raw</td>\n",
       "      <td>82.0</td>\n",
       "      <td>3.30</td>\n",
       "      <td>0.20</td>\n",
       "      <td>18.60</td>\n",
       "      <td>380.0</td>\n",
       "      <td>60.0</td>\n",
       "      <td>23.0</td>\n",
       "      <td>vegetable</td>\n",
       "    </tr>\n",
       "    <tr>\n",
       "      <th>1</th>\n",
       "      <td>Alfalfa seeds, sprouted, raw</td>\n",
       "      <td>23.0</td>\n",
       "      <td>3.99</td>\n",
       "      <td>0.69</td>\n",
       "      <td>2.10</td>\n",
       "      <td>79.0</td>\n",
       "      <td>32.0</td>\n",
       "      <td>27.0</td>\n",
       "      <td>vegetable</td>\n",
       "    </tr>\n",
       "    <tr>\n",
       "      <th>2</th>\n",
       "      <td>Amaranth leaves, raw</td>\n",
       "      <td>23.0</td>\n",
       "      <td>2.46</td>\n",
       "      <td>0.33</td>\n",
       "      <td>4.02</td>\n",
       "      <td>611.0</td>\n",
       "      <td>215.0</td>\n",
       "      <td>55.0</td>\n",
       "      <td>vegetable</td>\n",
       "    </tr>\n",
       "    <tr>\n",
       "      <th>3</th>\n",
       "      <td>Arrowhead, raw</td>\n",
       "      <td>99.0</td>\n",
       "      <td>5.33</td>\n",
       "      <td>0.29</td>\n",
       "      <td>20.20</td>\n",
       "      <td>922.0</td>\n",
       "      <td>10.0</td>\n",
       "      <td>51.0</td>\n",
       "      <td>vegetable</td>\n",
       "    </tr>\n",
       "    <tr>\n",
       "      <th>4</th>\n",
       "      <td>Arrowroot, raw</td>\n",
       "      <td>65.0</td>\n",
       "      <td>4.24</td>\n",
       "      <td>0.20</td>\n",
       "      <td>13.40</td>\n",
       "      <td>454.0</td>\n",
       "      <td>6.0</td>\n",
       "      <td>25.0</td>\n",
       "      <td>vegetable</td>\n",
       "    </tr>\n",
       "    <tr>\n",
       "      <th>...</th>\n",
       "      <td>...</td>\n",
       "      <td>...</td>\n",
       "      <td>...</td>\n",
       "      <td>...</td>\n",
       "      <td>...</td>\n",
       "      <td>...</td>\n",
       "      <td>...</td>\n",
       "      <td>...</td>\n",
       "      <td>...</td>\n",
       "    </tr>\n",
       "    <tr>\n",
       "      <th>194</th>\n",
       "      <td>Winged beans, immature seeds, raw</td>\n",
       "      <td>49.0</td>\n",
       "      <td>6.95</td>\n",
       "      <td>0.87</td>\n",
       "      <td>4.31</td>\n",
       "      <td>223.0</td>\n",
       "      <td>84.0</td>\n",
       "      <td>34.0</td>\n",
       "      <td>vegetable</td>\n",
       "    </tr>\n",
       "    <tr>\n",
       "      <th>195</th>\n",
       "      <td>Yam, raw</td>\n",
       "      <td>118.0</td>\n",
       "      <td>1.53</td>\n",
       "      <td>0.17</td>\n",
       "      <td>27.90</td>\n",
       "      <td>816.0</td>\n",
       "      <td>17.0</td>\n",
       "      <td>21.0</td>\n",
       "      <td>vegetable</td>\n",
       "    </tr>\n",
       "    <tr>\n",
       "      <th>196</th>\n",
       "      <td>Yambean (jicama), raw</td>\n",
       "      <td>38.0</td>\n",
       "      <td>0.72</td>\n",
       "      <td>0.09</td>\n",
       "      <td>8.82</td>\n",
       "      <td>150.0</td>\n",
       "      <td>12.0</td>\n",
       "      <td>12.0</td>\n",
       "      <td>vegetable</td>\n",
       "    </tr>\n",
       "    <tr>\n",
       "      <th>197</th>\n",
       "      <td>Yardlong bean, raw</td>\n",
       "      <td>47.0</td>\n",
       "      <td>2.80</td>\n",
       "      <td>0.40</td>\n",
       "      <td>8.35</td>\n",
       "      <td>240.0</td>\n",
       "      <td>50.0</td>\n",
       "      <td>44.0</td>\n",
       "      <td>vegetable</td>\n",
       "    </tr>\n",
       "    <tr>\n",
       "      <th>198</th>\n",
       "      <td>Yautia (tannier), raw</td>\n",
       "      <td>98.0</td>\n",
       "      <td>1.46</td>\n",
       "      <td>0.40</td>\n",
       "      <td>23.60</td>\n",
       "      <td>598.0</td>\n",
       "      <td>9.0</td>\n",
       "      <td>24.0</td>\n",
       "      <td>vegetable</td>\n",
       "    </tr>\n",
       "  </tbody>\n",
       "</table>\n",
       "<p>199 rows × 9 columns</p>\n",
       "</div>"
      ],
      "text/plain": [
       "                           Description  Energy  Protein  Total lipid (fat)  \\\n",
       "0     Salsify, (vegetable oyster), raw    82.0     3.30               0.20   \n",
       "1         Alfalfa seeds, sprouted, raw    23.0     3.99               0.69   \n",
       "2                 Amaranth leaves, raw    23.0     2.46               0.33   \n",
       "3                       Arrowhead, raw    99.0     5.33               0.29   \n",
       "4                       Arrowroot, raw    65.0     4.24               0.20   \n",
       "..                                 ...     ...      ...                ...   \n",
       "194  Winged beans, immature seeds, raw    49.0     6.95               0.87   \n",
       "195                           Yam, raw   118.0     1.53               0.17   \n",
       "196              Yambean (jicama), raw    38.0     0.72               0.09   \n",
       "197                 Yardlong bean, raw    47.0     2.80               0.40   \n",
       "198              Yautia (tannier), raw    98.0     1.46               0.40   \n",
       "\n",
       "     Carbohydrate, by difference  Potassium, K  Calcium, Ca  Magnesium, Mg  \\\n",
       "0                          18.60         380.0         60.0           23.0   \n",
       "1                           2.10          79.0         32.0           27.0   \n",
       "2                           4.02         611.0        215.0           55.0   \n",
       "3                          20.20         922.0         10.0           51.0   \n",
       "4                          13.40         454.0          6.0           25.0   \n",
       "..                           ...           ...          ...            ...   \n",
       "194                         4.31         223.0         84.0           34.0   \n",
       "195                        27.90         816.0         17.0           21.0   \n",
       "196                         8.82         150.0         12.0           12.0   \n",
       "197                         8.35         240.0         50.0           44.0   \n",
       "198                        23.60         598.0          9.0           24.0   \n",
       "\n",
       "      Category  \n",
       "0    vegetable  \n",
       "1    vegetable  \n",
       "2    vegetable  \n",
       "3    vegetable  \n",
       "4    vegetable  \n",
       "..         ...  \n",
       "194  vegetable  \n",
       "195  vegetable  \n",
       "196  vegetable  \n",
       "197  vegetable  \n",
       "198  vegetable  \n",
       "\n",
       "[199 rows x 9 columns]"
      ]
     },
     "execution_count": 456,
     "metadata": {},
     "output_type": "execute_result"
    }
   ],
   "source": []
  },
  {
   "cell_type": "markdown",
   "metadata": {},
   "source": [
    "## Conclusions"
   ]
  },
  {
   "cell_type": "code",
   "execution_count": null,
   "metadata": {},
   "outputs": [],
   "source": []
  }
 ],
 "metadata": {
  "kernelspec": {
   "display_name": "Python 3",
   "language": "python",
   "name": "python3"
  },
  "language_info": {
   "codemirror_mode": {
    "name": "ipython",
    "version": 3
   },
   "file_extension": ".py",
   "mimetype": "text/x-python",
   "name": "python",
   "nbconvert_exporter": "python",
   "pygments_lexer": "ipython3",
   "version": "3.10.12"
  }
 },
 "nbformat": 4,
 "nbformat_minor": 2
}
