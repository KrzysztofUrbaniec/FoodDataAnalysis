{
 "cells": [
  {
   "cell_type": "markdown",
   "id": "6851a3e8",
   "metadata": {},
   "source": [
    "## Import libraries"
   ]
  },
  {
   "cell_type": "code",
   "execution_count": 1,
   "id": "d4b0d794",
   "metadata": {
    "ExecuteTime": {
     "end_time": "2023-12-12T21:23:33.062528Z",
     "start_time": "2023-12-12T21:23:32.771440Z"
    },
    "cell_style": "center",
    "init_cell": true
   },
   "outputs": [],
   "source": [
    "import os\n",
    "import sys\n",
    "\n",
    "from dotenv import load_dotenv\n",
    "import pandas as pd\n",
    "\n",
    "sys.path.append(os.path.abspath('..'))\n",
    "from src.data.fdc_api_functions import fetch_all, fetch_fdc_data, get_food_info"
   ]
  },
  {
   "cell_type": "code",
   "execution_count": 2,
   "id": "6243394c",
   "metadata": {
    "ExecuteTime": {
     "end_time": "2023-12-12T21:23:33.067192Z",
     "start_time": "2023-12-12T21:23:33.064133Z"
    },
    "init_cell": true
   },
   "outputs": [],
   "source": [
    "\n",
    "load_dotenv()\n",
    "api_key = os.getenv('FOOD_DATA_CENTRAL_API_KEY')"
   ]
  },
  {
   "cell_type": "markdown",
   "id": "e14a7b96",
   "metadata": {},
   "source": [
    "## Fetch data"
   ]
  },
  {
   "cell_type": "code",
   "execution_count": 3,
   "metadata": {},
   "outputs": [],
   "source": [
    "nutrients = ['Energy','Protein','Total lipid (fat)','Carbohydrate, by difference','Vitamin A, RAE','Vitamin D3 (cholecalciferol)','Calcium, Ca','Magnesium, Mg']\n",
    "queries = ['fruit','vegetable','grain','fish','bean','nut','poultry','meat','egg','cheese']"
   ]
  },
  {
   "cell_type": "code",
   "execution_count": 15,
   "metadata": {},
   "outputs": [],
   "source": [
    "def fetch_data(target_directory,nutrients):\n",
    "    for food in queries:\n",
    "        data_type = 'Foundation'\n",
    "        if food == 'fish':           \n",
    "            data_type = 'SR Legacy'\n",
    "\n",
    "        food_type = fetch_all(\n",
    "                    query=food,\n",
    "                    api_key=api_key,\n",
    "                    nutrients_list=nutrients,\n",
    "                    data_type=data_type,\n",
    "                    start_page=1\n",
    "                )\n",
    "\n",
    "        food_type.to_csv(os.path.join(target_directory,food + '.csv'),index=False)\n",
    "\n",
    "fetch_data('../data/raw/',nutrients)"
   ]
  },
  {
   "cell_type": "code",
   "execution_count": 16,
   "metadata": {},
   "outputs": [
    {
     "data": {
      "text/html": [
       "<div>\n",
       "<style scoped>\n",
       "    .dataframe tbody tr th:only-of-type {\n",
       "        vertical-align: middle;\n",
       "    }\n",
       "\n",
       "    .dataframe tbody tr th {\n",
       "        vertical-align: top;\n",
       "    }\n",
       "\n",
       "    .dataframe thead th {\n",
       "        text-align: right;\n",
       "    }\n",
       "</style>\n",
       "<table border=\"1\" class=\"dataframe\">\n",
       "  <thead>\n",
       "    <tr style=\"text-align: right;\">\n",
       "      <th></th>\n",
       "      <th>Description</th>\n",
       "      <th>Energy</th>\n",
       "      <th>Protein</th>\n",
       "      <th>Total lipid (fat)</th>\n",
       "      <th>Carbohydrate, by difference</th>\n",
       "      <th>Vitamin A, RAE</th>\n",
       "      <th>Vitamin D3 (cholecalciferol)</th>\n",
       "      <th>Calcium, Ca</th>\n",
       "      <th>Magnesium, Mg</th>\n",
       "    </tr>\n",
       "  </thead>\n",
       "  <tbody>\n",
       "    <tr>\n",
       "      <th>0</th>\n",
       "      <td>Fish, fish sticks, frozen, prepared</td>\n",
       "      <td>277.0</td>\n",
       "      <td>11.00</td>\n",
       "      <td>16.20</td>\n",
       "      <td>21.70</td>\n",
       "      <td>4.0</td>\n",
       "      <td>0.0</td>\n",
       "      <td>16.0</td>\n",
       "      <td>25.0</td>\n",
       "    </tr>\n",
       "    <tr>\n",
       "      <th>1</th>\n",
       "      <td>Fish broth</td>\n",
       "      <td>16.0</td>\n",
       "      <td>2.00</td>\n",
       "      <td>0.60</td>\n",
       "      <td>0.40</td>\n",
       "      <td>1.0</td>\n",
       "      <td>NaN</td>\n",
       "      <td>30.0</td>\n",
       "      <td>1.0</td>\n",
       "    </tr>\n",
       "    <tr>\n",
       "      <th>2</th>\n",
       "      <td>Fish, surimi</td>\n",
       "      <td>99.0</td>\n",
       "      <td>15.20</td>\n",
       "      <td>0.90</td>\n",
       "      <td>6.85</td>\n",
       "      <td>20.0</td>\n",
       "      <td>NaN</td>\n",
       "      <td>9.0</td>\n",
       "      <td>43.0</td>\n",
       "    </tr>\n",
       "    <tr>\n",
       "      <th>3</th>\n",
       "      <td>Fish oil, herring</td>\n",
       "      <td>902.0</td>\n",
       "      <td>0.00</td>\n",
       "      <td>100.00</td>\n",
       "      <td>0.00</td>\n",
       "      <td>0.0</td>\n",
       "      <td>NaN</td>\n",
       "      <td>0.0</td>\n",
       "      <td>0.0</td>\n",
       "    </tr>\n",
       "    <tr>\n",
       "      <th>4</th>\n",
       "      <td>Fish oil, menhaden</td>\n",
       "      <td>902.0</td>\n",
       "      <td>0.00</td>\n",
       "      <td>100.00</td>\n",
       "      <td>0.00</td>\n",
       "      <td>0.0</td>\n",
       "      <td>NaN</td>\n",
       "      <td>0.0</td>\n",
       "      <td>0.0</td>\n",
       "    </tr>\n",
       "    <tr>\n",
       "      <th>...</th>\n",
       "      <td>...</td>\n",
       "      <td>...</td>\n",
       "      <td>...</td>\n",
       "      <td>...</td>\n",
       "      <td>...</td>\n",
       "      <td>...</td>\n",
       "      <td>...</td>\n",
       "      <td>...</td>\n",
       "      <td>...</td>\n",
       "    </tr>\n",
       "    <tr>\n",
       "      <th>247</th>\n",
       "      <td>Fish, whitefish, broad, head, eyes, cheeks and...</td>\n",
       "      <td>107.0</td>\n",
       "      <td>18.60</td>\n",
       "      <td>3.60</td>\n",
       "      <td>0.00</td>\n",
       "      <td>NaN</td>\n",
       "      <td>NaN</td>\n",
       "      <td>NaN</td>\n",
       "      <td>NaN</td>\n",
       "    </tr>\n",
       "    <tr>\n",
       "      <th>248</th>\n",
       "      <td>Fish, cod, Pacific, cooked, dry heat (may cont...</td>\n",
       "      <td>85.0</td>\n",
       "      <td>18.70</td>\n",
       "      <td>0.50</td>\n",
       "      <td>0.00</td>\n",
       "      <td>2.0</td>\n",
       "      <td>0.6</td>\n",
       "      <td>10.0</td>\n",
       "      <td>24.0</td>\n",
       "    </tr>\n",
       "    <tr>\n",
       "      <th>249</th>\n",
       "      <td>Fish, pollock, Alaska, cooked, dry heat (may c...</td>\n",
       "      <td>111.0</td>\n",
       "      <td>23.50</td>\n",
       "      <td>1.18</td>\n",
       "      <td>0.00</td>\n",
       "      <td>17.0</td>\n",
       "      <td>1.3</td>\n",
       "      <td>72.0</td>\n",
       "      <td>81.0</td>\n",
       "    </tr>\n",
       "    <tr>\n",
       "      <th>250</th>\n",
       "      <td>Margarine-like spread, SMART BALANCE Omega Plu...</td>\n",
       "      <td>605.0</td>\n",
       "      <td>0.13</td>\n",
       "      <td>71.00</td>\n",
       "      <td>0.16</td>\n",
       "      <td>NaN</td>\n",
       "      <td>NaN</td>\n",
       "      <td>NaN</td>\n",
       "      <td>NaN</td>\n",
       "    </tr>\n",
       "    <tr>\n",
       "      <th>251</th>\n",
       "      <td>Fish, tuna, light, canned in water, drained so...</td>\n",
       "      <td>86.0</td>\n",
       "      <td>19.40</td>\n",
       "      <td>0.96</td>\n",
       "      <td>0.00</td>\n",
       "      <td>17.0</td>\n",
       "      <td>1.2</td>\n",
       "      <td>17.0</td>\n",
       "      <td>23.0</td>\n",
       "    </tr>\n",
       "  </tbody>\n",
       "</table>\n",
       "<p>252 rows × 9 columns</p>\n",
       "</div>"
      ],
      "text/plain": [
       "                                           Description  Energy  Protein  \\\n",
       "0                  Fish, fish sticks, frozen, prepared   277.0    11.00   \n",
       "1                                           Fish broth    16.0     2.00   \n",
       "2                                         Fish, surimi    99.0    15.20   \n",
       "3                                    Fish oil, herring   902.0     0.00   \n",
       "4                                   Fish oil, menhaden   902.0     0.00   \n",
       "..                                                 ...     ...      ...   \n",
       "247  Fish, whitefish, broad, head, eyes, cheeks and...   107.0    18.60   \n",
       "248  Fish, cod, Pacific, cooked, dry heat (may cont...    85.0    18.70   \n",
       "249  Fish, pollock, Alaska, cooked, dry heat (may c...   111.0    23.50   \n",
       "250  Margarine-like spread, SMART BALANCE Omega Plu...   605.0     0.13   \n",
       "251  Fish, tuna, light, canned in water, drained so...    86.0    19.40   \n",
       "\n",
       "     Total lipid (fat)  Carbohydrate, by difference  Vitamin A, RAE  \\\n",
       "0                16.20                        21.70             4.0   \n",
       "1                 0.60                         0.40             1.0   \n",
       "2                 0.90                         6.85            20.0   \n",
       "3               100.00                         0.00             0.0   \n",
       "4               100.00                         0.00             0.0   \n",
       "..                 ...                          ...             ...   \n",
       "247               3.60                         0.00             NaN   \n",
       "248               0.50                         0.00             2.0   \n",
       "249               1.18                         0.00            17.0   \n",
       "250              71.00                         0.16             NaN   \n",
       "251               0.96                         0.00            17.0   \n",
       "\n",
       "     Vitamin D3 (cholecalciferol)  Calcium, Ca  Magnesium, Mg  \n",
       "0                             0.0         16.0           25.0  \n",
       "1                             NaN         30.0            1.0  \n",
       "2                             NaN          9.0           43.0  \n",
       "3                             NaN          0.0            0.0  \n",
       "4                             NaN          0.0            0.0  \n",
       "..                            ...          ...            ...  \n",
       "247                           NaN          NaN            NaN  \n",
       "248                           0.6         10.0           24.0  \n",
       "249                           1.3         72.0           81.0  \n",
       "250                           NaN          NaN            NaN  \n",
       "251                           1.2         17.0           23.0  \n",
       "\n",
       "[252 rows x 9 columns]"
      ]
     },
     "execution_count": 16,
     "metadata": {},
     "output_type": "execute_result"
    }
   ],
   "source": [
    "pd.read_csv('../data/raw/fish.csv')"
   ]
  },
  {
   "cell_type": "markdown",
   "id": "822f9653",
   "metadata": {},
   "source": [
    "### Fruits"
   ]
  },
  {
   "cell_type": "markdown",
   "id": "e59bdbb3",
   "metadata": {},
   "source": [
    "Whole fruits and fruit juice"
   ]
  },
  {
   "cell_type": "code",
   "execution_count": 13,
   "id": "70dc1f88",
   "metadata": {
    "ExecuteTime": {
     "end_time": "2023-12-07T21:36:00.970465Z",
     "start_time": "2023-12-07T21:35:59.104505Z"
    }
   },
   "outputs": [],
   "source": [
    "fruits = fetch_all(query='fruit',\n",
    "                   api_key=api_key,\n",
    "                   nutrients_list=fruits_nutrients,\n",
    "                    data_type='Foundation',start_page=1)\n",
    "\n",
    "fruits.to_csv('fruits.csv',index=False)"
   ]
  },
  {
   "cell_type": "markdown",
   "id": "fc919e7b",
   "metadata": {},
   "source": [
    "### Vegetables"
   ]
  },
  {
   "cell_type": "markdown",
   "id": "ea256474",
   "metadata": {},
   "source": [
    "Dark green vegs, red and orange vegs, starchy, other"
   ]
  },
  {
   "cell_type": "code",
   "execution_count": 27,
   "id": "404687ac",
   "metadata": {
    "ExecuteTime": {
     "end_time": "2023-12-07T21:37:48.068250Z",
     "start_time": "2023-12-07T21:37:44.290978Z"
    }
   },
   "outputs": [],
   "source": [
    "vegetables_nutrients = proximates + vitamins + minerals\n",
    "vegetables = fetch_all(query='vegetable',\n",
    "                   api_key=api_key,\n",
    "                   nutrients_list=vegetables_nutrients,\n",
    "                    data_type='Foundation',start_page=1)\n",
    "\n",
    "vegetables.to_csv('vegetables.csv',index=False)"
   ]
  },
  {
   "cell_type": "markdown",
   "id": "e3f7822b",
   "metadata": {},
   "source": [
    "### Grains"
   ]
  },
  {
   "cell_type": "markdown",
   "id": "cec506d2",
   "metadata": {},
   "source": [
    "Whole wheat bread, brown rice, popcorn, oatmeal (whole grains); refined grains"
   ]
  },
  {
   "cell_type": "code",
   "execution_count": 28,
   "id": "82754ea2",
   "metadata": {
    "ExecuteTime": {
     "end_time": "2023-12-07T21:37:54.524360Z",
     "start_time": "2023-12-07T21:37:52.766992Z"
    }
   },
   "outputs": [],
   "source": [
    "grains_nutrients = proximates + minerals + ['Molybdenum, Mo'] + ['Fiber, total dietary'] + ['Thiamin','Riboflavin','Niacin','Vitamin B-6','Biotin']\n",
    "grains = fetch_all(query='grain',\n",
    "                   api_key=api_key,\n",
    "                   nutrients_list=grains_nutrients,\n",
    "                    data_type='Foundation',start_page=1)\n",
    "grains.to_csv('grains.csv',index=False)"
   ]
  },
  {
   "cell_type": "markdown",
   "id": "7591fd0b",
   "metadata": {},
   "source": [
    "### Protein Foods"
   ]
  },
  {
   "cell_type": "markdown",
   "id": "89f7705f",
   "metadata": {},
   "source": [
    "Beans and peas, seafood, meat, poultry and eggs, nuts, seeds and soy"
   ]
  },
  {
   "cell_type": "code",
   "execution_count": 67,
   "id": "cc49ae75",
   "metadata": {
    "ExecuteTime": {
     "end_time": "2023-12-08T13:13:15.512832Z",
     "start_time": "2023-12-08T13:13:01.104587Z"
    }
   },
   "outputs": [],
   "source": [
    "fish_nutrients = proximates + minerals + vitamins + essential_aminoacids + ['PUFA 18:3 n-3 c,c,c (ALA)','PUFA 20:5 n-3 (EPA)','PUFA 22:6 n-3 (DHA)'] + \\\n",
    "['Fatty acids, total saturated','Fatty acids, total monounsaturated','Fatty acids, total polyunsaturated','Fatty acids, total trans','Cholesterol']\n",
    "fish_nutrients = remove_unnecessary_nutrients(fish_nutrients,['Vitamin K (Dihydrophylloquinone)','Vitamin K (phylloquinone)','Lutein + zeaxanthin'])\n",
    "fish = fetch_all(query='fish',\n",
    "                   api_key=api_key,\n",
    "                   nutrients_list=fish_nutrients,\n",
    "                    data_type='SR Legacy',start_page=1)\n",
    "\n",
    "fish = fish[fish['Description'].str.contains('raw')]\n",
    "\n",
    "fish.to_csv('../Foods/fish.csv',index=False)"
   ]
  },
  {
   "cell_type": "code",
   "execution_count": 66,
   "id": "38e0f3ab",
   "metadata": {
    "ExecuteTime": {
     "end_time": "2023-12-08T13:12:35.317601Z",
     "start_time": "2023-12-08T13:12:33.532163Z"
    }
   },
   "outputs": [],
   "source": [
    "beans_nutrients = proximates + minerals + ['Sulfur, S','Nickel, Ni','Molybdenum, Mo','Cobalt, Co','Boron, B'] \n",
    "beans = fetch_all(query='bean',\n",
    "                   api_key=api_key,\n",
    "                   nutrients_list=beans_nutrients,\n",
    "                    data_type='Foundation',start_page=1)\n",
    "\n",
    "# Duplicate from vegetables\n",
    "beans.drop([0,1],inplace=True)\n",
    "beans.to_csv('beans.csv',index=False)"
   ]
  },
  {
   "cell_type": "code",
   "execution_count": 31,
   "id": "804824b9",
   "metadata": {
    "ExecuteTime": {
     "end_time": "2023-12-07T21:38:15.755099Z",
     "start_time": "2023-12-07T21:38:14.176363Z"
    }
   },
   "outputs": [],
   "source": [
    "nuts_nutrients = proximates + minerals\n",
    "nuts = fetch_all(query='nut',\n",
    "                   api_key=api_key,\n",
    "                   nutrients_list=nuts_nutrients,\n",
    "                    data_type='Foundation',start_page=1)\n",
    "nuts.to_csv('nuts.csv',index=False)"
   ]
  },
  {
   "cell_type": "code",
   "execution_count": 32,
   "id": "67ca9d96",
   "metadata": {
    "ExecuteTime": {
     "end_time": "2023-12-07T21:38:21.655766Z",
     "start_time": "2023-12-07T21:38:19.736191Z"
    }
   },
   "outputs": [],
   "source": [
    "poultry_nutrients = proximates + minerals + ['Fatty acids, total saturated','Fatty acids, total monounsaturated','Fatty acids, total polyunsaturated','Fatty acids, total trans','Cholesterol']\n",
    "poultry = fetch_all(query='poultry',\n",
    "                   api_key=api_key,\n",
    "                   nutrients_list=poultry_nutrients,\n",
    "                    data_type='Foundation',start_page=1)\n",
    "poultry.to_csv('poultry.csv',index=False)"
   ]
  },
  {
   "cell_type": "code",
   "execution_count": 33,
   "id": "aec3b179",
   "metadata": {
    "ExecuteTime": {
     "end_time": "2023-12-07T21:38:28.936150Z",
     "start_time": "2023-12-07T21:38:26.767723Z"
    }
   },
   "outputs": [],
   "source": [
    "meat_nutrients = proximates + minerals + ['Fatty acids, total saturated','Fatty acids, total monounsaturated','Fatty acids, total polyunsaturated','Fatty acids, total trans','Cholesterol']\n",
    "meat = fetch_all(query='meat -restaurant',\n",
    "                   api_key=api_key,\n",
    "                   nutrients_list=meat_nutrients,\n",
    "                    data_type='Foundation',start_page=1)\n",
    "meat.to_csv('meat.csv',index=False)"
   ]
  },
  {
   "cell_type": "code",
   "execution_count": 34,
   "id": "d9637092",
   "metadata": {
    "ExecuteTime": {
     "end_time": "2023-12-07T21:38:41.371200Z",
     "start_time": "2023-12-07T21:38:41.353943Z"
    }
   },
   "outputs": [],
   "source": [
    "meat_and_poultry = pd.concat([poultry,meat],axis=0)\n",
    "meat_and_poultry.drop_duplicates(inplace=True)\n",
    "meat_and_poultry.to_csv('meat_and_poultry.csv',index=False)"
   ]
  },
  {
   "cell_type": "markdown",
   "id": "e5f1160b",
   "metadata": {},
   "source": [
    "### Diary"
   ]
  },
  {
   "cell_type": "markdown",
   "id": "632d0733",
   "metadata": {},
   "source": [
    "Milk and yogurt, cheese"
   ]
  },
  {
   "cell_type": "code",
   "execution_count": 35,
   "id": "0bc4dbf3",
   "metadata": {
    "ExecuteTime": {
     "end_time": "2023-12-07T21:38:48.396479Z",
     "start_time": "2023-12-07T21:38:46.629638Z"
    }
   },
   "outputs": [],
   "source": [
    "cheese_nutrients = proximates + vitamins + minerals + ['Fatty acids, total saturated','Fatty acids, total monounsaturated','Fatty acids, total polyunsaturated','Fatty acids, total trans']\n",
    "cheese = fetch_all(query='cheese',\n",
    "                   api_key=api_key,\n",
    "                   nutrients_list=cheese_nutrients,\n",
    "                    data_type='Foundation',start_page=1)\n",
    "cheese.to_csv('cheese.csv',index=False)"
   ]
  },
  {
   "cell_type": "code",
   "execution_count": 36,
   "id": "2e451a1b",
   "metadata": {
    "ExecuteTime": {
     "end_time": "2023-12-07T21:38:53.413623Z",
     "start_time": "2023-12-07T21:38:51.422793Z"
    }
   },
   "outputs": [],
   "source": [
    "egg_milk_yogurt_nutrients = proximates + vitamins + minerals + ['Fatty acids, total saturated','Fatty acids, total monounsaturated','Fatty acids, total polyunsaturated','Fatty acids, total trans'] + aminoacids\n",
    "egg_milk_yogurt = fetch_all(query='egg -cheese',\n",
    "                   api_key=api_key,\n",
    "                   nutrients_list=egg_milk_yogurt_nutrients,\n",
    "                    data_type='Foundation',start_page=1)\n",
    "egg_milk_yogurt.to_csv('egg_milk_yogurt.csv',index=False)"
   ]
  }
 ],
 "metadata": {
  "celltoolbar": "Initialization Cell",
  "kernelspec": {
   "display_name": "Python 3 (ipykernel)",
   "language": "python",
   "name": "python3"
  },
  "language_info": {
   "codemirror_mode": {
    "name": "ipython",
    "version": 3
   },
   "file_extension": ".py",
   "mimetype": "text/x-python",
   "name": "python",
   "nbconvert_exporter": "python",
   "pygments_lexer": "ipython3",
   "version": "3.10.12"
  },
  "toc": {
   "base_numbering": 1,
   "nav_menu": {},
   "number_sections": true,
   "sideBar": true,
   "skip_h1_title": false,
   "title_cell": "Table of Contents",
   "title_sidebar": "Contents",
   "toc_cell": false,
   "toc_position": {
    "height": "calc(100% - 180px)",
    "left": "10px",
    "top": "150px",
    "width": "384px"
   },
   "toc_section_display": true,
   "toc_window_display": false
  }
 },
 "nbformat": 4,
 "nbformat_minor": 5
}
