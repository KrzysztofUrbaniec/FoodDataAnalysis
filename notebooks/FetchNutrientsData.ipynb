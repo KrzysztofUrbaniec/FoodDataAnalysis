{
 "cells": [
  {
   "cell_type": "markdown",
   "id": "6851a3e8",
   "metadata": {},
   "source": [
    "## Import libraries"
   ]
  },
  {
   "cell_type": "code",
   "execution_count": 2,
   "id": "d4b0d794",
   "metadata": {
    "ExecuteTime": {
     "end_time": "2023-12-12T21:23:33.062528Z",
     "start_time": "2023-12-12T21:23:32.771440Z"
    },
    "cell_style": "center",
    "init_cell": true
   },
   "outputs": [],
   "source": [
    "import os\n",
    "import sys\n",
    "\n",
    "from dotenv import load_dotenv\n",
    "import pandas as pd\n",
    "\n",
    "sys.path.append(os.path.abspath('..'))\n",
    "from src.data.fdc_api_functions import fetch_all, fetch_fdc_data, get_food_info"
   ]
  },
  {
   "cell_type": "code",
   "execution_count": 3,
   "id": "6243394c",
   "metadata": {
    "ExecuteTime": {
     "end_time": "2023-12-12T21:23:33.067192Z",
     "start_time": "2023-12-12T21:23:33.064133Z"
    },
    "init_cell": true
   },
   "outputs": [],
   "source": [
    "\n",
    "load_dotenv()\n",
    "api_key = os.getenv('FOOD_DATA_CENTRAL_API_KEY')"
   ]
  },
  {
   "cell_type": "markdown",
   "id": "e14a7b96",
   "metadata": {},
   "source": [
    "## Fetch data"
   ]
  },
  {
   "cell_type": "code",
   "execution_count": 4,
   "metadata": {},
   "outputs": [],
   "source": [
    "nutrients = ['Energy','Protein','Total lipid (fat)','Carbohydrate, by difference','Potassium, K','Calcium, Ca','Magnesium, Mg']\n",
    "queries = ['fruit','vegetable','grain','fish','bean','nut','egg','cheese']"
   ]
  },
  {
   "cell_type": "code",
   "execution_count": 12,
   "metadata": {},
   "outputs": [],
   "source": [
    "def fetch_data(target_directory,nutrients):\n",
    "    for food in queries:\n",
    "        data_type = 'SR Legacy'\n",
    "\n",
    "        food_type = fetch_all(\n",
    "                    query=food + ' -restaurant',\n",
    "                    api_key=api_key,\n",
    "                    nutrients_list=nutrients,\n",
    "                    data_type=data_type,\n",
    "                    start_page=1\n",
    "                )\n",
    "\n",
    "        food_type.to_csv(os.path.join(target_directory,food + '.csv'),index=False)\n",
    "\n",
    "fetch_data('../data/raw/',nutrients)"
   ]
  }
 ],
 "metadata": {
  "celltoolbar": "Initialization Cell",
  "kernelspec": {
   "display_name": "Python 3 (ipykernel)",
   "language": "python",
   "name": "python3"
  },
  "language_info": {
   "codemirror_mode": {
    "name": "ipython",
    "version": 3
   },
   "file_extension": ".py",
   "mimetype": "text/x-python",
   "name": "python",
   "nbconvert_exporter": "python",
   "pygments_lexer": "ipython3",
   "version": "3.10.12"
  },
  "toc": {
   "base_numbering": 1,
   "nav_menu": {},
   "number_sections": true,
   "sideBar": true,
   "skip_h1_title": false,
   "title_cell": "Table of Contents",
   "title_sidebar": "Contents",
   "toc_cell": false,
   "toc_position": {
    "height": "calc(100% - 180px)",
    "left": "10px",
    "top": "150px",
    "width": "384px"
   },
   "toc_section_display": true,
   "toc_window_display": false
  }
 },
 "nbformat": 4,
 "nbformat_minor": 5
}
